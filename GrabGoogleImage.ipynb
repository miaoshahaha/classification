{
 "cells": [
  {
   "cell_type": "code",
   "execution_count": 39,
   "id": "03209b00",
   "metadata": {},
   "outputs": [
    {
     "name": "stdout",
     "output_type": "stream",
     "text": [
      "----------Searching for 中野三玖... ----------\n",
      "----------Current loading process : 0 / 667 ----------\n",
      "[INFO] Pictures 4 not found\n",
      "[INFO] Pictures 5 not found\n",
      "[INFO] Pictures 6 not found\n",
      "[INFO] Pictures 7 not found\n",
      "[INFO] Pictures 8 not found\n",
      "[INFO] Pictures 9 not found\n",
      "[INFO] Pictures 10 not found\n",
      "[INFO] Pictures 11 not found\n",
      "[INFO] Pictures 12 not found\n",
      "[INFO] Pictures 13 not found\n",
      "[INFO] Pictures 14 not found\n",
      "[INFO] Pictures 15 not found\n",
      "[INFO] Pictures 16 not found\n",
      "[INFO] Pictures 17 not found\n",
      "[INFO] Pictures 18 not found\n",
      "[INFO] Pictures 19 not found\n",
      "[INFO] Pictures 20 not found\n",
      "[INFO] Pictures 21 not found\n",
      "[INFO] Pictures 22 not found\n",
      "[INFO] Pictures 23 not found\n",
      "[INFO] Pictures 24 not found\n",
      "[INFO] Pictures 25 not found\n",
      "[INFO] Pictures 26 not found\n",
      "[INFO] Pictures 27 not found\n",
      "[INFO] Pictures 28 not found\n",
      "[INFO] Pictures 29 not found\n",
      "[INFO] Pictures 30 not found\n",
      "[INFO] Pictures 31 not found\n",
      "[INFO] Pictures 32 not found\n",
      "[INFO] Pictures 33 not found\n",
      "[INFO] Pictures 34 not found\n"
     ]
    },
    {
     "ename": "KeyboardInterrupt",
     "evalue": "",
     "output_type": "error",
     "traceback": [
      "\u001b[0;31m---------------------------------------------------------------------------\u001b[0m",
      "\u001b[0;31mNoSuchWindowException\u001b[0m                     Traceback (most recent call last)",
      "\u001b[0;32m/var/folders/yv/gsdwyvf96fjcrb9mz6c0vjc80000gp/T/ipykernel_19342/614261113.py\u001b[0m in \u001b[0;36mGrab_Google_Image\u001b[0;34m(driver, dir_name)\u001b[0m\n\u001b[1;32m     67\u001b[0m         \u001b[0;32mtry\u001b[0m\u001b[0;34m:\u001b[0m  \u001b[0;31m#For debug\u001b[0m\u001b[0;34m\u001b[0m\u001b[0;34m\u001b[0m\u001b[0m\n\u001b[0;32m---> 68\u001b[0;31m             \u001b[0mpics\u001b[0m\u001b[0;34m[\u001b[0m\u001b[0mi\u001b[0m\u001b[0;34m]\u001b[0m\u001b[0;34m.\u001b[0m\u001b[0mclick\u001b[0m\u001b[0;34m(\u001b[0m\u001b[0;34m)\u001b[0m\u001b[0;34m\u001b[0m\u001b[0;34m\u001b[0m\u001b[0m\n\u001b[0m\u001b[1;32m     69\u001b[0m             \u001b[0msleep\u001b[0m\u001b[0;34m(\u001b[0m\u001b[0;36m0.5\u001b[0m\u001b[0;34m)\u001b[0m\u001b[0;34m\u001b[0m\u001b[0;34m\u001b[0m\u001b[0m\n",
      "\u001b[0;32m~/opt/anaconda3/lib/python3.9/site-packages/selenium/webdriver/remote/webelement.py\u001b[0m in \u001b[0;36mclick\u001b[0;34m(self)\u001b[0m\n\u001b[1;32m     93\u001b[0m         \u001b[0;34m\"\"\"Clicks the element.\"\"\"\u001b[0m\u001b[0;34m\u001b[0m\u001b[0;34m\u001b[0m\u001b[0m\n\u001b[0;32m---> 94\u001b[0;31m         \u001b[0mself\u001b[0m\u001b[0;34m.\u001b[0m\u001b[0m_execute\u001b[0m\u001b[0;34m(\u001b[0m\u001b[0mCommand\u001b[0m\u001b[0;34m.\u001b[0m\u001b[0mCLICK_ELEMENT\u001b[0m\u001b[0;34m)\u001b[0m\u001b[0;34m\u001b[0m\u001b[0;34m\u001b[0m\u001b[0m\n\u001b[0m\u001b[1;32m     95\u001b[0m \u001b[0;34m\u001b[0m\u001b[0m\n",
      "\u001b[0;32m~/opt/anaconda3/lib/python3.9/site-packages/selenium/webdriver/remote/webelement.py\u001b[0m in \u001b[0;36m_execute\u001b[0;34m(self, command, params)\u001b[0m\n\u001b[1;32m    403\u001b[0m         \u001b[0mparams\u001b[0m\u001b[0;34m[\u001b[0m\u001b[0;34m\"id\"\u001b[0m\u001b[0;34m]\u001b[0m \u001b[0;34m=\u001b[0m \u001b[0mself\u001b[0m\u001b[0;34m.\u001b[0m\u001b[0m_id\u001b[0m\u001b[0;34m\u001b[0m\u001b[0;34m\u001b[0m\u001b[0m\n\u001b[0;32m--> 404\u001b[0;31m         \u001b[0;32mreturn\u001b[0m \u001b[0mself\u001b[0m\u001b[0;34m.\u001b[0m\u001b[0m_parent\u001b[0m\u001b[0;34m.\u001b[0m\u001b[0mexecute\u001b[0m\u001b[0;34m(\u001b[0m\u001b[0mcommand\u001b[0m\u001b[0;34m,\u001b[0m \u001b[0mparams\u001b[0m\u001b[0;34m)\u001b[0m\u001b[0;34m\u001b[0m\u001b[0;34m\u001b[0m\u001b[0m\n\u001b[0m\u001b[1;32m    405\u001b[0m \u001b[0;34m\u001b[0m\u001b[0m\n",
      "\u001b[0;32m~/opt/anaconda3/lib/python3.9/site-packages/selenium/webdriver/remote/webdriver.py\u001b[0m in \u001b[0;36mexecute\u001b[0;34m(self, driver_command, params)\u001b[0m\n\u001b[1;32m    439\u001b[0m         \u001b[0;32mif\u001b[0m \u001b[0mresponse\u001b[0m\u001b[0;34m:\u001b[0m\u001b[0;34m\u001b[0m\u001b[0;34m\u001b[0m\u001b[0m\n\u001b[0;32m--> 440\u001b[0;31m             \u001b[0mself\u001b[0m\u001b[0;34m.\u001b[0m\u001b[0merror_handler\u001b[0m\u001b[0;34m.\u001b[0m\u001b[0mcheck_response\u001b[0m\u001b[0;34m(\u001b[0m\u001b[0mresponse\u001b[0m\u001b[0;34m)\u001b[0m\u001b[0;34m\u001b[0m\u001b[0;34m\u001b[0m\u001b[0m\n\u001b[0m\u001b[1;32m    441\u001b[0m             \u001b[0mresponse\u001b[0m\u001b[0;34m[\u001b[0m\u001b[0;34m\"value\"\u001b[0m\u001b[0;34m]\u001b[0m \u001b[0;34m=\u001b[0m \u001b[0mself\u001b[0m\u001b[0;34m.\u001b[0m\u001b[0m_unwrap_value\u001b[0m\u001b[0;34m(\u001b[0m\u001b[0mresponse\u001b[0m\u001b[0;34m.\u001b[0m\u001b[0mget\u001b[0m\u001b[0;34m(\u001b[0m\u001b[0;34m\"value\"\u001b[0m\u001b[0;34m,\u001b[0m \u001b[0;32mNone\u001b[0m\u001b[0;34m)\u001b[0m\u001b[0;34m)\u001b[0m\u001b[0;34m\u001b[0m\u001b[0;34m\u001b[0m\u001b[0m\n",
      "\u001b[0;32m~/opt/anaconda3/lib/python3.9/site-packages/selenium/webdriver/remote/errorhandler.py\u001b[0m in \u001b[0;36mcheck_response\u001b[0;34m(self, response)\u001b[0m\n\u001b[1;32m    244\u001b[0m             \u001b[0;32mraise\u001b[0m \u001b[0mexception_class\u001b[0m\u001b[0;34m(\u001b[0m\u001b[0mmessage\u001b[0m\u001b[0;34m,\u001b[0m \u001b[0mscreen\u001b[0m\u001b[0;34m,\u001b[0m \u001b[0mstacktrace\u001b[0m\u001b[0;34m,\u001b[0m \u001b[0malert_text\u001b[0m\u001b[0;34m)\u001b[0m  \u001b[0;31m# type: ignore[call-arg]  # mypy is not smart enough here\u001b[0m\u001b[0;34m\u001b[0m\u001b[0;34m\u001b[0m\u001b[0m\n\u001b[0;32m--> 245\u001b[0;31m         \u001b[0;32mraise\u001b[0m \u001b[0mexception_class\u001b[0m\u001b[0;34m(\u001b[0m\u001b[0mmessage\u001b[0m\u001b[0;34m,\u001b[0m \u001b[0mscreen\u001b[0m\u001b[0;34m,\u001b[0m \u001b[0mstacktrace\u001b[0m\u001b[0;34m)\u001b[0m\u001b[0;34m\u001b[0m\u001b[0;34m\u001b[0m\u001b[0m\n\u001b[0m",
      "\u001b[0;31mNoSuchWindowException\u001b[0m: Message: no such window: target window already closed\nfrom unknown error: web view not found\n  (Session info: chrome=112.0.5615.137)\nStacktrace:\n0   chromedriver                        0x0000000101aa8ae8 chromedriver + 4958952\n1   chromedriver                        0x0000000101aa07b3 chromedriver + 4925363\n2   chromedriver                        0x00000001016621d6 chromedriver + 475606\n3   chromedriver                        0x0000000101637cec chromedriver + 302316\n4   chromedriver                        0x00000001016d0f2f chromedriver + 929583\n5   chromedriver                        0x00000001016e6926 chromedriver + 1018150\n6   chromedriver                        0x00000001016cb9e3 chromedriver + 907747\n7   chromedriver                        0x0000000101695aef chromedriver + 686831\n8   chromedriver                        0x000000010169700e chromedriver + 692238\n9   chromedriver                        0x0000000101a649ad chromedriver + 4680109\n10  chromedriver                        0x0000000101a69c12 chromedriver + 4701202\n11  chromedriver                        0x0000000101a7079f chromedriver + 4728735\n12  chromedriver                        0x0000000101a6ab7a chromedriver + 4705146\n13  chromedriver                        0x0000000101a3d27e chromedriver + 4518526\n14  chromedriver                        0x0000000101a8a908 chromedriver + 4835592\n15  chromedriver                        0x0000000101a8aa87 chromedriver + 4835975\n16  chromedriver                        0x0000000101a9a00f chromedriver + 4898831\n17  libsystem_pthread.dylib             0x00007fff695f2109 _pthread_start + 148\n18  libsystem_pthread.dylib             0x00007fff695edb8b thread_start + 15\n",
      "\nDuring handling of the above exception, another exception occurred:\n",
      "\u001b[0;31mKeyboardInterrupt\u001b[0m                         Traceback (most recent call last)",
      "\u001b[0;32m/var/folders/yv/gsdwyvf96fjcrb9mz6c0vjc80000gp/T/ipykernel_19342/614261113.py\u001b[0m in \u001b[0;36m<module>\u001b[0;34m\u001b[0m\n\u001b[1;32m    121\u001b[0m \u001b[0;34m\u001b[0m\u001b[0m\n\u001b[1;32m    122\u001b[0m     \u001b[0mScroll_To_End\u001b[0m\u001b[0;34m(\u001b[0m\u001b[0mdriver\u001b[0m\u001b[0;34m)\u001b[0m\u001b[0;34m\u001b[0m\u001b[0;34m\u001b[0m\u001b[0m\n\u001b[0;32m--> 123\u001b[0;31m     \u001b[0mGrab_Google_Image\u001b[0m\u001b[0;34m(\u001b[0m\u001b[0mdriver\u001b[0m\u001b[0;34m,\u001b[0m \u001b[0mdir_name\u001b[0m\u001b[0;34m=\u001b[0m\u001b[0mdir_name\u001b[0m\u001b[0;34m)\u001b[0m\u001b[0;34m\u001b[0m\u001b[0;34m\u001b[0m\u001b[0m\n\u001b[0m\u001b[1;32m    124\u001b[0m     \u001b[0mdriver\u001b[0m\u001b[0;34m.\u001b[0m\u001b[0mclose\u001b[0m\u001b[0;34m(\u001b[0m\u001b[0;34m)\u001b[0m\u001b[0;34m\u001b[0m\u001b[0;34m\u001b[0m\u001b[0m\n",
      "\u001b[0;32m/var/folders/yv/gsdwyvf96fjcrb9mz6c0vjc80000gp/T/ipykernel_19342/614261113.py\u001b[0m in \u001b[0;36mGrab_Google_Image\u001b[0;34m(driver, dir_name)\u001b[0m\n\u001b[1;32m     77\u001b[0m         \u001b[0;32mexcept\u001b[0m\u001b[0;34m:\u001b[0m\u001b[0;34m\u001b[0m\u001b[0;34m\u001b[0m\u001b[0m\n\u001b[1;32m     78\u001b[0m             \u001b[0mprint\u001b[0m\u001b[0;34m(\u001b[0m\u001b[0;34mf\"[INFO] Pictures {i} not found\"\u001b[0m\u001b[0;34m)\u001b[0m\u001b[0;34m\u001b[0m\u001b[0;34m\u001b[0m\u001b[0m\n\u001b[0;32m---> 79\u001b[0;31m             \u001b[0msleep\u001b[0m\u001b[0;34m(\u001b[0m\u001b[0;36m0.5\u001b[0m\u001b[0;34m)\u001b[0m\u001b[0;34m\u001b[0m\u001b[0;34m\u001b[0m\u001b[0m\n\u001b[0m\u001b[1;32m     80\u001b[0m             \u001b[0;32mcontinue\u001b[0m\u001b[0;34m\u001b[0m\u001b[0;34m\u001b[0m\u001b[0m\n\u001b[1;32m     81\u001b[0m \u001b[0;34m\u001b[0m\u001b[0m\n",
      "\u001b[0;31mKeyboardInterrupt\u001b[0m: "
     ]
    }
   ],
   "source": [
    "import pandas as pd \n",
    "import os\n",
    "import requests\n",
    "\n",
    "from time import sleep\n",
    "from bs4 import BeautifulSoup\n",
    "from selenium import webdriver\n",
    "from selenium.webdriver.common.by import By\n",
    "\n",
    "\n",
    "# Scroll to the end to load all images.\n",
    "def Scroll_To_End(driver):\n",
    "    \n",
    "    scroll_pause_time = 2.5\n",
    "    button_click_pause_time = 2\n",
    "\n",
    "    last_height = driver.execute_script(\"return document.body.scrollHeight\")\n",
    "    \n",
    "    curr_num_button = 0\n",
    "\n",
    "    while True:\n",
    "        driver.execute_script(\"window.scrollTo(0, document.body.scrollHeight);\")\n",
    "\n",
    "        sleep(scroll_pause_time)\n",
    "        \n",
    "        button = driver.find_elements(By.CLASS_NAME, 'mye4qd')\n",
    "        \n",
    "        # Button in the end of the driver window. \n",
    "        if len(button) > curr_num_button:       \n",
    "            try:\n",
    "                button[curr_num_button].click()\n",
    "                curr_num_button += 1\n",
    "                sleep(button_click_pause_time)\n",
    "            except:\n",
    "                pass\n",
    "\n",
    "        new_height = driver.execute_script(\"return document.body.scrollHeight\")\n",
    "\n",
    "        if new_height == last_height:\n",
    "            break\n",
    "        last_height = new_height\n",
    "\n",
    "\n",
    "# Download all of the images from Google.\n",
    "def Grab_Google_Image(driver, dir_name):\n",
    "    \n",
    "    exception_pause_time = 1\n",
    "    pics_click_pause_time = 0.5\n",
    "    \n",
    "    if not os.path.exists(dir_name):\n",
    "        os.mkdir(dir_name)\n",
    "    \n",
    "    # Record number of file in directory\n",
    "    n_files = len(os.listdir(dir_name))\n",
    "    \n",
    "    all_pics = driver.find_elements(By.CLASS_NAME, \"Q4LuWd\")\n",
    "    pics = all_pics\n",
    "\n",
    "    res = []\n",
    "    checkset = set()\n",
    "\n",
    "    for i in range(len(pics)):\n",
    "        \n",
    "        if i % 100 == 0:\n",
    "            print(f\"----------Current loading process : {i} / {len(pics)} ----------\")\n",
    "            \n",
    "        try:  #For debug\n",
    "            pics[i].click()\n",
    "            sleep(0.5)\n",
    "            \n",
    "            pic_html = driver.find_elements(By.XPATH, '/html/body/div[2]/c-wiz/div[3]/div[2]/div[3]/div[2]/div/div[2]/div[2]/div[2]/c-wiz/div/div/div/div[3]/div[1]/a/img[1]')\n",
    "            html = pic_html[0].get_attribute('src')\n",
    "            \n",
    "            if html not in checkset:\n",
    "                res.append(html)\n",
    "                checkset.add(html)\n",
    "        except:\n",
    "            print(f\"[INFO] Pictures {i} not found\")\n",
    "            sleep(0.5)\n",
    "            continue\n",
    "        \n",
    "    print(\"----------Finish Loading. ----------\")            \n",
    "    \n",
    "    files_count = 1\n",
    "    for i in range(len(res)):\n",
    "        img_html = res[i]\n",
    "        \n",
    "        if i % 100 == 0:\n",
    "            print(f\"----------Current downloading process : {i} / {len(res)} ----------\")\n",
    "    \n",
    "        try:\n",
    "            response = requests.get(img_html)\n",
    "            sleep(1)\n",
    "\n",
    "            # Add n_files to save images from different query.\n",
    "            with open(f\"{dir_name}//image{files_count + n_files}.jpg\", \"wb\") as f:\n",
    "                f.write(response.content)\n",
    "\n",
    "        except:\n",
    "            print(f\"[INFO] Couldn't find image number {i}. This message can be ignored.\")\n",
    "            sleep(0.5)\n",
    "            continue\n",
    "\n",
    "        files_count += 1\n",
    "        \n",
    "    print(\"----------Finish downloading. ----------\")\n",
    "        \n",
    "\n",
    "# Search the images to be downloaded here.\n",
    "dir_name = u'中野三玖'\n",
    "all_queries = [u'中野三玖', u'nakano miku']\n",
    "\n",
    "for search_query in all_queries:\n",
    "    \n",
    "    print(f\"----------Searching for {search_query}... ----------\")\n",
    "    url = f'https://www.google.com/search?q={search_query}&tbm=isch'\n",
    "\n",
    "    driver = webdriver.Chrome()\n",
    "    driver.get(url)\n",
    "    sleep(5)\n",
    "\n",
    "    Scroll_To_End(driver)\n",
    "    Grab_Google_Image(driver, dir_name=dir_name)\n",
    "    driver.close()\n"
   ]
  },
  {
   "cell_type": "code",
   "execution_count": 16,
   "id": "0e75b71f",
   "metadata": {},
   "outputs": [],
   "source": [
    "button = driver.find_elements(By.CLASS_NAME, 'mye4qd')"
   ]
  },
  {
   "cell_type": "code",
   "execution_count": 34,
   "id": "3f0a6200",
   "metadata": {},
   "outputs": [],
   "source": [
    "pic_html = driver.find_elements(By.XPATH, '/html/body/div[2]/c-wiz/div[3]/div[2]/div[3]/div[2]/div/div[2]/div[2]/div[2]/c-wiz/div/div/div/div[3]/div[1]/a/img[1]')"
   ]
  },
  {
   "cell_type": "code",
   "execution_count": 40,
   "id": "ac501886",
   "metadata": {},
   "outputs": [
    {
     "ename": "NameError",
     "evalue": "name 'pic' is not defined",
     "output_type": "error",
     "traceback": [
      "\u001b[0;31m---------------------------------------------------------------------------\u001b[0m",
      "\u001b[0;31mNameError\u001b[0m                                 Traceback (most recent call last)",
      "\u001b[0;32m/var/folders/yv/gsdwyvf96fjcrb9mz6c0vjc80000gp/T/ipykernel_16853/3872312499.py\u001b[0m in \u001b[0;36m<module>\u001b[0;34m\u001b[0m\n\u001b[0;32m----> 1\u001b[0;31m \u001b[0mlen\u001b[0m\u001b[0;34m(\u001b[0m\u001b[0mpic\u001b[0m\u001b[0;34m)\u001b[0m\u001b[0;34m\u001b[0m\u001b[0;34m\u001b[0m\u001b[0m\n\u001b[0m",
      "\u001b[0;31mNameError\u001b[0m: name 'pic' is not defined"
     ]
    }
   ],
   "source": [
    "len(pic)"
   ]
  },
  {
   "cell_type": "code",
   "execution_count": 33,
   "id": "b8c0f9e0",
   "metadata": {},
   "outputs": [
    {
     "data": {
      "text/plain": [
       "602"
      ]
     },
     "execution_count": 33,
     "metadata": {},
     "output_type": "execute_result"
    }
   ],
   "source": [
    "len(all_pics)"
   ]
  },
  {
   "cell_type": "code",
   "execution_count": 13,
   "id": "9e6f497c",
   "metadata": {},
   "outputs": [],
   "source": [
    "os.mkdir('test')"
   ]
  },
  {
   "cell_type": "code",
   "execution_count": 5,
   "id": "c6f66965",
   "metadata": {},
   "outputs": [],
   "source": [
    "import os\n",
    "import requests"
   ]
  },
  {
   "cell_type": "code",
   "execution_count": 20,
   "id": "e3269308",
   "metadata": {},
   "outputs": [],
   "source": [
    "test_url = 'https://static.wikia.nocookie.net/cartoons/images/e/ed/Profile_-_SpongeBob_SquarePants.png/revision/latest?cb=20230305115632'\n",
    "response = requests.get(test_url)\n",
    "\n",
    "with open(f\"test//image2.jpg\", \"wb\") as f:\n",
    "    f.write(response.content)"
   ]
  },
  {
   "cell_type": "code",
   "execution_count": 23,
   "id": "e3f11586",
   "metadata": {},
   "outputs": [
    {
     "name": "stdout",
     "output_type": "stream",
     "text": [
      "2\n"
     ]
    }
   ],
   "source": [
    "print(len(os.listdir('test')))"
   ]
  },
  {
   "cell_type": "code",
   "execution_count": null,
   "id": "dc890876",
   "metadata": {},
   "outputs": [],
   "source": []
  }
 ],
 "metadata": {
  "kernelspec": {
   "display_name": "Python 3 (ipykernel)",
   "language": "python",
   "name": "python3"
  },
  "language_info": {
   "codemirror_mode": {
    "name": "ipython",
    "version": 3
   },
   "file_extension": ".py",
   "mimetype": "text/x-python",
   "name": "python",
   "nbconvert_exporter": "python",
   "pygments_lexer": "ipython3",
   "version": "3.9.13"
  }
 },
 "nbformat": 4,
 "nbformat_minor": 5
}
