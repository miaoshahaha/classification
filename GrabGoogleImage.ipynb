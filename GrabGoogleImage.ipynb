{
 "cells": [
  {
   "cell_type": "code",
   "execution_count": null,
   "id": "03209b00",
   "metadata": {},
   "outputs": [
    {
     "name": "stdout",
     "output_type": "stream",
     "text": [
      "4719\n",
      "2540\n"
     ]
    }
   ],
   "source": [
    "import pandas as pd \n",
    "import os\n",
    "import requests\n",
    "\n",
    "from time import sleep\n",
    "from bs4 import BeautifulSoup\n",
    "from selenium import webdriver\n",
    "from selenium.webdriver.common.by import By\n",
    "\n",
    "\n",
    "# Scroll to the end to load all images.\n",
    "def Scroll_To_End(driver):\n",
    "    scroll_pause_time = 2.5\n",
    "\n",
    "    last_height = driver.execute_script(\"return document.body.scrollHeight\")\n",
    "    \n",
    "    curr_num_button = 0\n",
    "\n",
    "    while True:\n",
    "        driver.execute_script(\"window.scrollTo(0, document.body.scrollHeight);\")\n",
    "\n",
    "        sleep(scroll_pause_time)\n",
    "        \n",
    "        button = driver.find_elements(By.CLASS_NAME, 'mye4qd')\n",
    "        \n",
    "        # Button in the end of the driver window. \n",
    "        if len(button) > curr_num_button:       \n",
    "            try:\n",
    "                button[curr_num_button].click()\n",
    "                curr_num_button += 1\n",
    "                sleep(2)\n",
    "            except:\n",
    "                pass\n",
    "\n",
    "        new_height = driver.execute_script(\"return document.body.scrollHeight\")\n",
    "        print(new_height)\n",
    "        print(last_height)\n",
    "\n",
    "        if new_height == last_height:\n",
    "            break\n",
    "        last_height = new_height\n",
    "\n",
    "\n",
    "# Download all of the images from Google.\n",
    "def Grab_Google_Image(driver, dir_name):\n",
    "    \n",
    "    if not os.path.exists(dir_name):\n",
    "        os.mkdir(dir_name)\n",
    "    \n",
    "    # Record number of file in directory\n",
    "    n_files = len(os.listdir(dir_name))\n",
    "    \n",
    "    all_pics = driver.find_elements(By.CLASS_NAME, \"Q4LuWd\")\n",
    "    pics = all_pics\n",
    "\n",
    "    res = []\n",
    "    checkset = set()\n",
    "\n",
    "    for i in range(len(pics)):\n",
    "        \n",
    "        if i % 100 == 0:\n",
    "            print(f\"----------Current loading process : {i} / {len(pics)} ----------\")\n",
    "            \n",
    "        try:  #For debug\n",
    "            pics[i].click()\n",
    "            sleep(0.5)\n",
    "            \n",
    "            pic_html = driver.find_elements(By.XPATH, '/html/body/div[2]/c-wiz/div[3]/div[2]/div[3]/div[2]/div/div[2]/div[2]/div[2]/c-wiz/div/div/div/div[3]/div[1]/a/img[1]')\n",
    "            html = pic_html[0].get_attribute('src')\n",
    "            \n",
    "            if html not in checkset:\n",
    "                res.append(html)\n",
    "                checkset.add(html)\n",
    "        except:\n",
    "            print(f\"[INFO] Pictures {i} not found\")\n",
    "            continue\n",
    "        \n",
    "    print(\"----------Finish Loading. ----------\")            \n",
    "    \n",
    "    files_count = 1\n",
    "    for i in range(len(res)):\n",
    "        img_html = res[i]\n",
    "        \n",
    "        if i % 100 == 0:\n",
    "            print(f\"----------Current downloading process : {i} / {len(res)} ----------\")\n",
    "    \n",
    "        try:\n",
    "            response = requests.get(img_html)\n",
    "            sleep(1)\n",
    "\n",
    "            # Add n_files to save images from different query.\n",
    "            with open(f\"{dir_name}//image{files_count + n_files}.jpg\", \"wb\") as f:\n",
    "                f.write(response.content)\n",
    "\n",
    "        except:\n",
    "            print(f\"[INFO] Couldn't find image number {i}. This message can be ignored.\")\n",
    "            continue\n",
    "\n",
    "        files_count += 1\n",
    "        \n",
    "    print(\"----------Finish downloading. ----------\")\n",
    "        \n",
    "\n",
    "# Search the images to be downloaded here. \n",
    "search_query = u'utaha kasumigaoka'\n",
    "dir_name = u'霞之丘詩羽'\n",
    "\n",
    "url = f'https://www.google.com/search?q={search_query}&tbm=isch'\n",
    "\n",
    "driver = webdriver.Chrome()\n",
    "driver.get(url)\n",
    "sleep(5)\n",
    "\n",
    "Scroll_To_End(driver)\n",
    "Grab_Google_Image(driver, dir_name=dir_name)\n"
   ]
  },
  {
   "cell_type": "code",
   "execution_count": 16,
   "id": "0e75b71f",
   "metadata": {},
   "outputs": [],
   "source": [
    "button = driver.find_elements(By.CLASS_NAME, 'mye4qd')"
   ]
  },
  {
   "cell_type": "code",
   "execution_count": 34,
   "id": "3f0a6200",
   "metadata": {},
   "outputs": [],
   "source": [
    "pic_html = driver.find_elements(By.XPATH, '/html/body/div[2]/c-wiz/div[3]/div[2]/div[3]/div[2]/div/div[2]/div[2]/div[2]/c-wiz/div/div/div/div[3]/div[1]/a/img[1]')"
   ]
  },
  {
   "cell_type": "code",
   "execution_count": 40,
   "id": "ac501886",
   "metadata": {},
   "outputs": [
    {
     "ename": "NameError",
     "evalue": "name 'pic' is not defined",
     "output_type": "error",
     "traceback": [
      "\u001b[0;31m---------------------------------------------------------------------------\u001b[0m",
      "\u001b[0;31mNameError\u001b[0m                                 Traceback (most recent call last)",
      "\u001b[0;32m/var/folders/yv/gsdwyvf96fjcrb9mz6c0vjc80000gp/T/ipykernel_16853/3872312499.py\u001b[0m in \u001b[0;36m<module>\u001b[0;34m\u001b[0m\n\u001b[0;32m----> 1\u001b[0;31m \u001b[0mlen\u001b[0m\u001b[0;34m(\u001b[0m\u001b[0mpic\u001b[0m\u001b[0;34m)\u001b[0m\u001b[0;34m\u001b[0m\u001b[0;34m\u001b[0m\u001b[0m\n\u001b[0m",
      "\u001b[0;31mNameError\u001b[0m: name 'pic' is not defined"
     ]
    }
   ],
   "source": [
    "len(pic)"
   ]
  },
  {
   "cell_type": "code",
   "execution_count": 33,
   "id": "b8c0f9e0",
   "metadata": {},
   "outputs": [
    {
     "data": {
      "text/plain": [
       "602"
      ]
     },
     "execution_count": 33,
     "metadata": {},
     "output_type": "execute_result"
    }
   ],
   "source": [
    "len(all_pics)"
   ]
  },
  {
   "cell_type": "code",
   "execution_count": 13,
   "id": "9e6f497c",
   "metadata": {},
   "outputs": [],
   "source": [
    "os.mkdir('test')"
   ]
  },
  {
   "cell_type": "code",
   "execution_count": 5,
   "id": "c6f66965",
   "metadata": {},
   "outputs": [],
   "source": [
    "import os\n",
    "import requests"
   ]
  },
  {
   "cell_type": "code",
   "execution_count": 20,
   "id": "e3269308",
   "metadata": {},
   "outputs": [],
   "source": [
    "test_url = 'https://static.wikia.nocookie.net/cartoons/images/e/ed/Profile_-_SpongeBob_SquarePants.png/revision/latest?cb=20230305115632'\n",
    "response = requests.get(test_url)\n",
    "\n",
    "with open(f\"test//image2.jpg\", \"wb\") as f:\n",
    "    f.write(response.content)"
   ]
  },
  {
   "cell_type": "code",
   "execution_count": 23,
   "id": "e3f11586",
   "metadata": {},
   "outputs": [
    {
     "name": "stdout",
     "output_type": "stream",
     "text": [
      "2\n"
     ]
    }
   ],
   "source": [
    "print(len(os.listdir('test')))"
   ]
  },
  {
   "cell_type": "code",
   "execution_count": null,
   "id": "dc890876",
   "metadata": {},
   "outputs": [],
   "source": []
  }
 ],
 "metadata": {
  "kernelspec": {
   "display_name": "Python 3 (ipykernel)",
   "language": "python",
   "name": "python3"
  },
  "language_info": {
   "codemirror_mode": {
    "name": "ipython",
    "version": 3
   },
   "file_extension": ".py",
   "mimetype": "text/x-python",
   "name": "python",
   "nbconvert_exporter": "python",
   "pygments_lexer": "ipython3",
   "version": "3.9.13"
  }
 },
 "nbformat": 4,
 "nbformat_minor": 5
}
